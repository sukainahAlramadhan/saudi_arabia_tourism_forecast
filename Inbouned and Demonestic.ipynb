{
 "cells": [
  {
   "cell_type": "markdown",
   "id": "dcb97794-36c8-4d33-885e-d3092f2a71ad",
   "metadata": {},
   "source": [
    "# Demonestic and Inbouned "
   ]
  },
  {
   "cell_type": "markdown",
   "id": "6101d763-3bd0-44cd-a93b-2bdcc5289d83",
   "metadata": {},
   "source": [
    "## Libraries "
   ]
  },
  {
   "cell_type": "code",
   "execution_count": 1,
   "id": "b8ab6821-bf44-4c9a-83ce-36373b720212",
   "metadata": {},
   "outputs": [
    {
     "name": "stderr",
     "output_type": "stream",
     "text": [
      "Importing plotly failed. Interactive plots will not work.\n"
     ]
    }
   ],
   "source": [
    "import pandas as pd\n",
    "\n",
    "from prophet import Prophet\n",
    "\n",
    "from sklearn.metrics import mean_absolute_percentage_error"
   ]
  },
  {
   "cell_type": "markdown",
   "id": "174fc235-f09d-4227-8b98-6aa79c80fea1",
   "metadata": {},
   "source": [
    "## domenstic data "
   ]
  },
  {
   "cell_type": "code",
   "execution_count": 2,
   "id": "934a177d-8a13-4f58-b687-285e6e4fa59f",
   "metadata": {
    "scrolled": true
   },
   "outputs": [
    {
     "name": "stderr",
     "output_type": "stream",
     "text": [
      "/tmp/ipykernel_1023/3934125829.py:6: UserWarning: Could not infer format, so each element will be parsed individually, falling back to `dateutil`. To ensure parsing is consistent and as-expected, please specify a format.\n",
      "  df_d['Date'] = pd.to_datetime(df_d['Year'].astype(str) + ' ' + df_d['Month'])\n"
     ]
    }
   ],
   "source": [
    "# domenstic data \n",
    "## read data file\n",
    "df_d = pd.read_excel('raw_data/D_data.xlsx')\n",
    "\n",
    "## crete date column and set it as index then drop the (yeaer month) columns\n",
    "df_d['Date'] = pd.to_datetime(df_d['Year'].astype(str) + ' ' + df_d['Month'])\n",
    "df_d.set_index('Date', inplace=True)\n",
    "df_d.drop(columns=['Year', 'Month'], inplace=True)\n",
    "df_d = df_d.dropna()\n",
    "\n",
    "## rename the column\n",
    "df_d.rename(columns={'Tourists Number Overnight Visitors': 'number of visitor'}, inplace=True)"
   ]
  },
  {
   "cell_type": "code",
   "execution_count": 3,
   "id": "9487e8f6-d55b-48b0-82a6-50986a485b37",
   "metadata": {},
   "outputs": [],
   "source": [
    "visitor_num_d = pd.DataFrame(df_d['number of visitor'])\n",
    "spend_d = pd.DataFrame(df_d['Tourists Spending'])\n",
    "# spend_d"
   ]
  },
  {
   "cell_type": "markdown",
   "id": "e4208139-1f86-43ae-8ab8-16c70c663bca",
   "metadata": {
    "jp-MarkdownHeadingCollapsed": true
   },
   "source": [
    "### data visualizing"
   ]
  },
  {
   "cell_type": "markdown",
   "id": "eb520af7-10d5-49e3-a963-effcf4a235df",
   "metadata": {},
   "source": [
    "### models for VISITORS NUM"
   ]
  },
  {
   "cell_type": "markdown",
   "id": "62284db3-929d-48bc-b41c-d1f7b05a4ef4",
   "metadata": {},
   "source": [
    "#### data split"
   ]
  },
  {
   "cell_type": "code",
   "execution_count": 4,
   "id": "53c9960c-8825-4d09-a389-f219fa800379",
   "metadata": {},
   "outputs": [],
   "source": [
    "# Let's keep the last 20% of the values out for testing purposes\n",
    "train_size = 0.9\n",
    "visitor_num_d_index = round(train_size*visitor_num_d.shape[0])\n",
    "\n",
    "## VISITOR DATA\n",
    "visitor_num_d_train = visitor_num_d.iloc[:visitor_num_d_index]\n",
    "visitor_num_d_test = visitor_num_d.iloc[visitor_num_d_index:]"
   ]
  },
  {
   "cell_type": "markdown",
   "id": "0478238c-fed9-4b4e-903d-d08c89ae0a7d",
   "metadata": {},
   "source": [
    "#### baseline model"
   ]
  },
  {
   "cell_type": "code",
   "execution_count": 5,
   "id": "6ae50bd4-d82b-4954-ab48-68bd82de0c34",
   "metadata": {},
   "outputs": [
    {
     "name": "stdout",
     "output_type": "stream",
     "text": [
      "baseline model mape for visitor_num : 0.16183560329824545\n"
     ]
    }
   ],
   "source": [
    "## predict the # visitors of prevus month as the # visitors of next month\n",
    "visitor_num_d_y_pred = visitor_num_d_test.shift(1).dropna()\n",
    "visitor_num_d_y_true = visitor_num_d_test[1:]\n",
    "\n",
    "visitor_num_d_base_accuracy = mean_absolute_percentage_error(visitor_num_d_y_true, visitor_num_d_y_pred)\n",
    "print(f\"baseline model mape for visitor_num : {visitor_num_d_base_accuracy}\")"
   ]
  },
  {
   "cell_type": "code",
   "execution_count": 6,
   "id": "674e79d0-bd38-48cc-b6cd-7a479d7cedcf",
   "metadata": {},
   "outputs": [],
   "source": [
    "# from darts.models import NaiveSeasonal\n",
    "\n",
    "# naive_model = NaiveSeasonal(K=1)\n",
    "# naive_model.fit(visitor_num_d_train)\n",
    "# # naive_forecast = naive_model.predict(len(val))\n",
    "# # naive_forecast\n",
    "\n",
    "\n",
    "# # visitor_num_d_train.plot(label=\"actual\")\n",
    "# # visitor_num_d_test.plot(label = \"test\")\n",
    "# # naive_forecast.plot(label=\"naive forecast (K=1)\")"
   ]
  },
  {
   "cell_type": "markdown",
   "id": "41251143-7a34-42c3-8caf-20a6a535c3b9",
   "metadata": {},
   "source": [
    "#### Prophet"
   ]
  },
  {
   "cell_type": "code",
   "execution_count": 7,
   "id": "22f8ebe3-2a4b-4780-af2f-a5019c1282a1",
   "metadata": {},
   "outputs": [],
   "source": [
    "## prepare data for prophet TRAIN \n",
    "visitor_num_d_prophet_train = visitor_num_d_train.reset_index().rename(columns={\n",
    "    'Date': 'ds',\n",
    "    'number of visitor': 'y'\n",
    "})\n",
    "\n",
    "# Make sure 'ds' is datetime\n",
    "# visitor_num_d_prophet_train['ds'] = pd.to_datetime(visitor_num_d_prophet_train['ds'])\n",
    "# visitor_num_d_prophet_train\n",
    "\n",
    "## prepare data for prophet TEST \n",
    "visitor_num_d_prophet_test = visitor_num_d_test.reset_index().rename(columns={\n",
    "    'Date': 'ds',\n",
    "    'number of visitor': 'y'\n",
    "})\n",
    "\n",
    "# Make sure 'ds' is datetime\n",
    "# visitor_num_d_prophet_test['ds'] = pd.to_datetime(visitor_num_d_prophet_test['ds'])\n"
   ]
  },
  {
   "cell_type": "code",
   "execution_count": 8,
   "id": "59b7db6f-c079-4c1b-8a62-d40c514a1169",
   "metadata": {
    "scrolled": true
   },
   "outputs": [
    {
     "name": "stderr",
     "output_type": "stream",
     "text": [
      "09:26:23 - cmdstanpy - INFO - Chain [1] start processing\n",
      "09:26:23 - cmdstanpy - INFO - Chain [1] done processing\n"
     ]
    },
    {
     "name": "stdout",
     "output_type": "stream",
     "text": [
      "Prophet MAPE for visitor_num: 8.41%\n"
     ]
    }
   ],
   "source": [
    "# Fit the model\n",
    "prophet = Prophet()\n",
    "prophet.fit(visitor_num_d_prophet_train)\n",
    "\n",
    "# Prepare the future DataFrame (dates) for prediction\n",
    "future = visitor_num_d_prophet_test[['ds']]  # Just the dates from your test set\n",
    "preds = prophet.predict(future)  # Get predictions\n",
    "\n",
    "# Calculate accuracy using MAPE\n",
    "y_true = visitor_num_d_prophet_test['y'].values\n",
    "y_pred = preds['yhat'].values\n",
    "visitor_num_d_prophet_accuracy = mean_absolute_percentage_error(y_true, y_pred)\n",
    "\n",
    "# Print accuracy\n",
    "print(f\"Prophet MAPE for visitor_num: {visitor_num_d_prophet_accuracy:.2%}\")\n",
    "## WITH DIFFERENT SPLIT SIZE: \n",
    "## lower is better\n",
    "# 0.9 >> MAPE: 8.41%\n",
    "# 0.85 >> MAPE: 11.44%\n",
    "# 0.8 >> MAPE: 23.42%\n"
   ]
  },
  {
   "cell_type": "markdown",
   "id": "b4f86502-ef9c-41fe-880e-b0dc5990a743",
   "metadata": {},
   "source": [
    "delete or not??????"
   ]
  },
  {
   "cell_type": "code",
   "execution_count": 9,
   "id": "3ae7f400-0be5-4b62-8a9d-16cc980f4c13",
   "metadata": {},
   "outputs": [
    {
     "name": "stderr",
     "output_type": "stream",
     "text": [
      "09:26:23 - cmdstanpy - INFO - Chain [1] start processing\n",
      "09:26:23 - cmdstanpy - INFO - Chain [1] done processing\n",
      "/home/sukainah/.pyenv/versions/3.10.6/envs/saudi_arabia_tourism_forecast/lib/python3.10/site-packages/prophet/forecaster.py:1854: FutureWarning: 'm' is deprecated and will be removed in a future version, please use 'ME' instead.\n",
      "  dates = pd.date_range(\n"
     ]
    },
    {
     "name": "stdout",
     "output_type": "stream",
     "text": [
      "error is: 0.07437681179946537\n"
     ]
    }
   ],
   "source": [
    "# Fit the model\n",
    "prophet = Prophet()\n",
    "prophet.fit(visitor_num_d_prophet_train)\n",
    "\n",
    "# Prepare the future DataFrame (dates) for prediction\n",
    "Test_size = visitor_num_d_prophet_test.shape[0]\n",
    "future = prophet.make_future_dataframe(periods=Test_size, freq='m')\n",
    "forecast = prophet.predict(future)\n",
    "predictions = forecast.tail(Test_size)\n",
    "\n",
    "error = mean_absolute_percentage_error(visitor_num_d_prophet_test['y'], predictions['yhat'])   \n",
    "print('error is:', error)"
   ]
  },
  {
   "cell_type": "markdown",
   "id": "951e2bf5-9825-4d81-abd3-38853809df0d",
   "metadata": {},
   "source": [
    "### models for SPENDS"
   ]
  },
  {
   "cell_type": "markdown",
   "id": "788e7f5f-0329-44c9-abdd-d9fdbf25c7d8",
   "metadata": {},
   "source": [
    "#### data split "
   ]
  },
  {
   "cell_type": "code",
   "execution_count": 10,
   "id": "5d879f54-0b52-4f86-8046-5a0a500a0baf",
   "metadata": {},
   "outputs": [],
   "source": [
    "## SPENDS DATA\n",
    "train_size = 0.9\n",
    "spends_d_index = round(train_size*spend_d.shape[0])\n",
    "\n",
    "spends_d_train = spend_d.iloc[:spends_d_index]\n",
    "spends_d_test = spend_d.iloc[spends_d_index:]"
   ]
  },
  {
   "cell_type": "markdown",
   "id": "e4cf7825-2d5d-4538-9ff8-1222f359dcd7",
   "metadata": {},
   "source": [
    "#### baseline model"
   ]
  },
  {
   "cell_type": "code",
   "execution_count": 11,
   "id": "897ed9e1-bacd-4327-a847-0e69c491f60e",
   "metadata": {},
   "outputs": [
    {
     "name": "stdout",
     "output_type": "stream",
     "text": [
      "baseline model mape for spends: 0.12697341353249217\n"
     ]
    }
   ],
   "source": [
    "## predict the # visitors of prevus month as the # visitors of next month\n",
    "spends_d_y_pred = spends_d_test.shift(1).dropna()\n",
    "spends_d_y_true = spends_d_test[1:]\n",
    "spends_d_base_accuracy = mean_absolute_percentage_error(spends_d_y_true, spends_d_y_pred)\n",
    "print(f\"baseline model mape for spends: {spends_d_base_accuracy}\")"
   ]
  },
  {
   "cell_type": "markdown",
   "id": "d85ef853-8ed6-41c8-a458-1ec58eaef5c8",
   "metadata": {},
   "source": [
    "#### prophet"
   ]
  },
  {
   "cell_type": "code",
   "execution_count": 12,
   "id": "8d4e1fc2-03f7-4fc2-8779-6b63f01edcef",
   "metadata": {},
   "outputs": [],
   "source": [
    "## prepare data for prophet TRAIN \n",
    "spends_d_prophet_train = spends_d_train.reset_index().rename(columns={\n",
    "    'Date': 'ds',\n",
    "    'Tourists Spending': 'y'\n",
    "})\n",
    "\n",
    "# # Make sure 'ds' is datetime\n",
    "# spends_d_prophet_train['ds'] = pd.to_datetime(spends_d_prophet_train['ds'])\n",
    "# spends_d_prophet_train\n",
    "\n",
    "## prepare data for prophet TEST \n",
    "spends_d_prophet_test = spends_d_test.reset_index().rename(columns={\n",
    "    'Date': 'ds',\n",
    "    'Tourists Spending': 'y'\n",
    "})\n",
    "\n",
    "# Make sure 'ds' is datetime\n",
    "# spends_d_prophet_test['ds'] = pd.to_datetime(spends_d_prophet_test['ds'])\n"
   ]
  },
  {
   "cell_type": "code",
   "execution_count": 13,
   "id": "e0652465-656c-43a9-aab2-9a68b50eeec9",
   "metadata": {},
   "outputs": [
    {
     "name": "stderr",
     "output_type": "stream",
     "text": [
      "09:26:23 - cmdstanpy - INFO - Chain [1] start processing\n",
      "09:26:23 - cmdstanpy - INFO - Chain [1] done processing\n"
     ]
    },
    {
     "name": "stdout",
     "output_type": "stream",
     "text": [
      "Prophet MAPE for spends: 10.97%\n"
     ]
    }
   ],
   "source": [
    "# Fit the model\n",
    "prophet = Prophet()\n",
    "prophet.fit(spends_d_prophet_train)\n",
    "\n",
    "# Prepare the future DataFrame (dates) for prediction\n",
    "future = spends_d_prophet_test[['ds']]  # Just the dates from your test set\n",
    "preds = prophet.predict(future)  # Get predictions\n",
    "\n",
    "# Calculate accuracy using MAPE\n",
    "y_true = spends_d_prophet_test['y'].values\n",
    "y_pred = preds['yhat'].values\n",
    "spends_d_prophet_accuracy = mean_absolute_percentage_error(y_true, y_pred)\n",
    "\n",
    "# Print accuracy\n",
    "print(f\"Prophet MAPE for spends: {spends_d_prophet_accuracy:.2%}\")\n",
    "## WITH DIFFERENT SPLIT SIZE: \n",
    "# 0.9 >> MAPE: 10.97%\n",
    "# 0.85 >> MAPE: MAPE: 14.14%\n",
    "# 0.8 >> MAPE: 39.65%\n"
   ]
  },
  {
   "cell_type": "markdown",
   "id": "8a674684-b24d-4300-94d6-e50d90784aa5",
   "metadata": {},
   "source": [
    "delete or not??????"
   ]
  },
  {
   "cell_type": "code",
   "execution_count": 14,
   "id": "09bff90d-e054-4456-bc4b-f7b4fee36902",
   "metadata": {},
   "outputs": [
    {
     "name": "stderr",
     "output_type": "stream",
     "text": [
      "09:26:23 - cmdstanpy - INFO - Chain [1] start processing\n",
      "09:26:23 - cmdstanpy - INFO - Chain [1] done processing\n"
     ]
    },
    {
     "name": "stdout",
     "output_type": "stream",
     "text": [
      "error is: 0.2571648146607834\n"
     ]
    },
    {
     "name": "stderr",
     "output_type": "stream",
     "text": [
      "/home/sukainah/.pyenv/versions/3.10.6/envs/saudi_arabia_tourism_forecast/lib/python3.10/site-packages/prophet/forecaster.py:1854: FutureWarning: 'm' is deprecated and will be removed in a future version, please use 'ME' instead.\n",
      "  dates = pd.date_range(\n"
     ]
    }
   ],
   "source": [
    "\n",
    "# Fit the model\n",
    "prophet = Prophet()\n",
    "prophet.fit(spends_d_prophet_test)\n",
    "\n",
    "# Prepare the future DataFrame (dates) for prediction\n",
    "Test_size = spends_d_prophet_test.shape[0]\n",
    "future = prophet.make_future_dataframe(periods=Test_size, freq='m')\n",
    "forecast = prophet.predict(future)\n",
    "predictions = forecast.tail(Test_size)\n",
    "\n",
    "error = mean_absolute_percentage_error(spends_d_prophet_test['y'], predictions['yhat'])   \n",
    "print('error is:', error)"
   ]
  },
  {
   "cell_type": "markdown",
   "id": "0d289e95-cc4f-469f-a5bf-db270bcd7b26",
   "metadata": {
    "jp-MarkdownHeadingCollapsed": true
   },
   "source": [
    "## ERROR"
   ]
  },
  {
   "cell_type": "markdown",
   "id": "4dd4ce8b-a104-4d95-bb58-c5f0dbb69bb9",
   "metadata": {},
   "source": [
    "#### SARIMA"
   ]
  },
  {
   "cell_type": "code",
   "execution_count": 15,
   "id": "42f6d37d-25f9-49df-bcf7-32d3d9f6ffbc",
   "metadata": {},
   "outputs": [
    {
     "name": "stdout",
     "output_type": "stream",
     "text": [
      "ADF Statistic: -0.11995162478481129\n",
      "p-value: 0.9474146563395988\n"
     ]
    }
   ],
   "source": [
    "from statsmodels.tsa.stattools import adfuller\n",
    "# check if our data is stationary or non \n",
    "# SARIMA requires that your data be stationary (i.e., the statistical properties don’t change over time). \n",
    "# If your data is non-stationary, you can apply differencing.\n",
    "\n",
    "result = adfuller(visitor_num_d_train['number of visitor'])\n",
    "print(f\"ADF Statistic: {result[0]}\")\n",
    "print(f\"p-value: {result[1]}\")\n",
    "\n",
    "#  p-value > 0.05, apply differencing."
   ]
  },
  {
   "cell_type": "code",
   "execution_count": 16,
   "id": "cc6a0219-ed25-49eb-8dd5-b17dfa388517",
   "metadata": {},
   "outputs": [
    {
     "name": "stderr",
     "output_type": "stream",
     "text": [
      "/tmp/ipykernel_1023/2042314778.py:2: SettingWithCopyWarning: \n",
      "A value is trying to be set on a copy of a slice from a DataFrame.\n",
      "Try using .loc[row_indexer,col_indexer] = value instead\n",
      "\n",
      "See the caveats in the documentation: https://pandas.pydata.org/pandas-docs/stable/user_guide/indexing.html#returning-a-view-versus-a-copy\n",
      "  visitor_num_d_train['diff'] = visitor_num_d_train['number of visitor'].diff().dropna()\n"
     ]
    },
    {
     "data": {
      "text/html": [
       "<div>\n",
       "<style scoped>\n",
       "    .dataframe tbody tr th:only-of-type {\n",
       "        vertical-align: middle;\n",
       "    }\n",
       "\n",
       "    .dataframe tbody tr th {\n",
       "        vertical-align: top;\n",
       "    }\n",
       "\n",
       "    .dataframe thead th {\n",
       "        text-align: right;\n",
       "    }\n",
       "</style>\n",
       "<table border=\"1\" class=\"dataframe\">\n",
       "  <thead>\n",
       "    <tr style=\"text-align: right;\">\n",
       "      <th></th>\n",
       "      <th>number of visitor</th>\n",
       "      <th>diff</th>\n",
       "    </tr>\n",
       "    <tr>\n",
       "      <th>Date</th>\n",
       "      <th></th>\n",
       "      <th></th>\n",
       "    </tr>\n",
       "  </thead>\n",
       "  <tbody>\n",
       "    <tr>\n",
       "      <th>2015-01-01</th>\n",
       "      <td>4823.334549</td>\n",
       "      <td>NaN</td>\n",
       "    </tr>\n",
       "    <tr>\n",
       "      <th>2015-02-01</th>\n",
       "      <td>4140.102538</td>\n",
       "      <td>-683.232011</td>\n",
       "    </tr>\n",
       "    <tr>\n",
       "      <th>2015-03-01</th>\n",
       "      <td>3859.551814</td>\n",
       "      <td>-280.550724</td>\n",
       "    </tr>\n",
       "    <tr>\n",
       "      <th>2015-04-01</th>\n",
       "      <td>3539.225495</td>\n",
       "      <td>-320.326319</td>\n",
       "    </tr>\n",
       "    <tr>\n",
       "      <th>2015-05-01</th>\n",
       "      <td>3332.502920</td>\n",
       "      <td>-206.722575</td>\n",
       "    </tr>\n",
       "    <tr>\n",
       "      <th>...</th>\n",
       "      <td>...</td>\n",
       "      <td>...</td>\n",
       "    </tr>\n",
       "    <tr>\n",
       "      <th>2023-03-01</th>\n",
       "      <td>6502.156000</td>\n",
       "      <td>894.519000</td>\n",
       "    </tr>\n",
       "    <tr>\n",
       "      <th>2023-04-01</th>\n",
       "      <td>6881.296000</td>\n",
       "      <td>379.140000</td>\n",
       "    </tr>\n",
       "    <tr>\n",
       "      <th>2023-05-01</th>\n",
       "      <td>5002.991000</td>\n",
       "      <td>-1878.305000</td>\n",
       "    </tr>\n",
       "    <tr>\n",
       "      <th>2023-06-01</th>\n",
       "      <td>9547.860000</td>\n",
       "      <td>4544.869000</td>\n",
       "    </tr>\n",
       "    <tr>\n",
       "      <th>2023-07-01</th>\n",
       "      <td>8118.256000</td>\n",
       "      <td>-1429.604000</td>\n",
       "    </tr>\n",
       "  </tbody>\n",
       "</table>\n",
       "<p>103 rows × 2 columns</p>\n",
       "</div>"
      ],
      "text/plain": [
       "            number of visitor         diff\n",
       "Date                                      \n",
       "2015-01-01        4823.334549          NaN\n",
       "2015-02-01        4140.102538  -683.232011\n",
       "2015-03-01        3859.551814  -280.550724\n",
       "2015-04-01        3539.225495  -320.326319\n",
       "2015-05-01        3332.502920  -206.722575\n",
       "...                       ...          ...\n",
       "2023-03-01        6502.156000   894.519000\n",
       "2023-04-01        6881.296000   379.140000\n",
       "2023-05-01        5002.991000 -1878.305000\n",
       "2023-06-01        9547.860000  4544.869000\n",
       "2023-07-01        8118.256000 -1429.604000\n",
       "\n",
       "[103 rows x 2 columns]"
      ]
     },
     "execution_count": 16,
     "metadata": {},
     "output_type": "execute_result"
    }
   ],
   "source": [
    "## diffrencing \n",
    "visitor_num_d_train['diff'] = visitor_num_d_train['number of visitor'].diff().dropna()\n",
    "visitor_num_d_train"
   ]
  },
  {
   "cell_type": "code",
   "execution_count": 17,
   "id": "c312d4e1-bbcd-4fae-85eb-c40bb0157f0d",
   "metadata": {},
   "outputs": [],
   "source": [
    "import matplotlib.pyplot as plt\n",
    "import numpy as np\n",
    "import pandas as pd\n",
    "import matplotlib.pyplot as plt\n",
    "import statsmodels.api as sm\n",
    "from statsmodels.graphics.tsaplots import plot_pacf, plot_acf\n",
    "from sklearn.metrics import mean_absolute_percentage_error"
   ]
  },
  {
   "cell_type": "code",
   "execution_count": 18,
   "id": "5c255883-424c-418b-b2d2-d439ab4b54d8",
   "metadata": {},
   "outputs": [],
   "source": [
    "# import pmdarima as pm\n",
    "\n",
    "# smodel = pm.auto_arima(visitor_num_d_train, seasonal=True, m=12, \n",
    "#                        start_p=0, max_p=1, max_d=1, start_q=0, max_q=1,\n",
    "#                        start_P=0, max_P=2, max_D=1, start_Q=0, max_Q=2, \n",
    "#                        trace=True, error_action='ignore', suppress_warnings=True)"
   ]
  },
  {
   "cell_type": "code",
   "execution_count": 19,
   "id": "70e95cc5-a7f3-4a9c-b82b-f1c63b6ddee2",
   "metadata": {},
   "outputs": [
    {
     "name": "stderr",
     "output_type": "stream",
     "text": [
      "/home/sukainah/.pyenv/versions/3.10.6/envs/saudi_arabia_tourism_forecast/lib/python3.10/site-packages/sklearn/utils/deprecation.py:151: FutureWarning: 'force_all_finite' was renamed to 'ensure_all_finite' in 1.6 and will be removed in 1.8.\n",
      "  warnings.warn(\n",
      "/home/sukainah/.pyenv/versions/3.10.6/envs/saudi_arabia_tourism_forecast/lib/python3.10/site-packages/sklearn/utils/deprecation.py:151: FutureWarning: 'force_all_finite' was renamed to 'ensure_all_finite' in 1.6 and will be removed in 1.8.\n",
      "  warnings.warn(\n",
      "/home/sukainah/.pyenv/versions/3.10.6/envs/saudi_arabia_tourism_forecast/lib/python3.10/site-packages/sklearn/utils/deprecation.py:151: FutureWarning: 'force_all_finite' was renamed to 'ensure_all_finite' in 1.6 and will be removed in 1.8.\n",
      "  warnings.warn(\n",
      "/home/sukainah/.pyenv/versions/3.10.6/envs/saudi_arabia_tourism_forecast/lib/python3.10/site-packages/sklearn/utils/deprecation.py:151: FutureWarning: 'force_all_finite' was renamed to 'ensure_all_finite' in 1.6 and will be removed in 1.8.\n",
      "  warnings.warn(\n",
      "/home/sukainah/.pyenv/versions/3.10.6/envs/saudi_arabia_tourism_forecast/lib/python3.10/site-packages/sklearn/utils/deprecation.py:151: FutureWarning: 'force_all_finite' was renamed to 'ensure_all_finite' in 1.6 and will be removed in 1.8.\n",
      "  warnings.warn(\n",
      "/home/sukainah/.pyenv/versions/3.10.6/envs/saudi_arabia_tourism_forecast/lib/python3.10/site-packages/sklearn/utils/deprecation.py:151: FutureWarning: 'force_all_finite' was renamed to 'ensure_all_finite' in 1.6 and will be removed in 1.8.\n",
      "  warnings.warn(\n",
      "/home/sukainah/.pyenv/versions/3.10.6/envs/saudi_arabia_tourism_forecast/lib/python3.10/site-packages/sklearn/utils/deprecation.py:151: FutureWarning: 'force_all_finite' was renamed to 'ensure_all_finite' in 1.6 and will be removed in 1.8.\n",
      "  warnings.warn(\n",
      "/home/sukainah/.pyenv/versions/3.10.6/envs/saudi_arabia_tourism_forecast/lib/python3.10/site-packages/sklearn/utils/deprecation.py:151: FutureWarning: 'force_all_finite' was renamed to 'ensure_all_finite' in 1.6 and will be removed in 1.8.\n",
      "  warnings.warn(\n",
      "/home/sukainah/.pyenv/versions/3.10.6/envs/saudi_arabia_tourism_forecast/lib/python3.10/site-packages/sklearn/utils/deprecation.py:151: FutureWarning: 'force_all_finite' was renamed to 'ensure_all_finite' in 1.6 and will be removed in 1.8.\n",
      "  warnings.warn(\n",
      "/home/sukainah/.pyenv/versions/3.10.6/envs/saudi_arabia_tourism_forecast/lib/python3.10/site-packages/sklearn/utils/deprecation.py:151: FutureWarning: 'force_all_finite' was renamed to 'ensure_all_finite' in 1.6 and will be removed in 1.8.\n",
      "  warnings.warn(\n",
      "/home/sukainah/.pyenv/versions/3.10.6/envs/saudi_arabia_tourism_forecast/lib/python3.10/site-packages/sklearn/utils/deprecation.py:151: FutureWarning: 'force_all_finite' was renamed to 'ensure_all_finite' in 1.6 and will be removed in 1.8.\n",
      "  warnings.warn(\n"
     ]
    },
    {
     "name": "stdout",
     "output_type": "stream",
     "text": [
      "Performing stepwise search to minimize aic\n",
      " ARIMA(2,1,2)(1,0,1)[12] intercept   : AIC=inf, Time=1.90 sec\n",
      " ARIMA(0,1,0)(0,0,0)[12] intercept   : AIC=1799.856, Time=0.02 sec\n"
     ]
    },
    {
     "name": "stderr",
     "output_type": "stream",
     "text": [
      "/home/sukainah/.pyenv/versions/3.10.6/envs/saudi_arabia_tourism_forecast/lib/python3.10/site-packages/sklearn/utils/deprecation.py:151: FutureWarning: 'force_all_finite' was renamed to 'ensure_all_finite' in 1.6 and will be removed in 1.8.\n",
      "  warnings.warn(\n",
      "/home/sukainah/.pyenv/versions/3.10.6/envs/saudi_arabia_tourism_forecast/lib/python3.10/site-packages/sklearn/utils/deprecation.py:151: FutureWarning: 'force_all_finite' was renamed to 'ensure_all_finite' in 1.6 and will be removed in 1.8.\n",
      "  warnings.warn(\n"
     ]
    },
    {
     "name": "stdout",
     "output_type": "stream",
     "text": [
      " ARIMA(1,1,0)(1,0,0)[12] intercept   : AIC=1761.939, Time=0.39 sec\n"
     ]
    },
    {
     "name": "stderr",
     "output_type": "stream",
     "text": [
      "/home/sukainah/.pyenv/versions/3.10.6/envs/saudi_arabia_tourism_forecast/lib/python3.10/site-packages/sklearn/utils/deprecation.py:151: FutureWarning: 'force_all_finite' was renamed to 'ensure_all_finite' in 1.6 and will be removed in 1.8.\n",
      "  warnings.warn(\n"
     ]
    },
    {
     "name": "stdout",
     "output_type": "stream",
     "text": [
      " ARIMA(0,1,1)(0,0,1)[12] intercept   : AIC=1745.954, Time=0.60 sec\n",
      " ARIMA(0,1,0)(0,0,0)[12]             : AIC=1797.902, Time=0.03 sec\n"
     ]
    },
    {
     "name": "stderr",
     "output_type": "stream",
     "text": [
      "/home/sukainah/.pyenv/versions/3.10.6/envs/saudi_arabia_tourism_forecast/lib/python3.10/site-packages/sklearn/utils/deprecation.py:151: FutureWarning: 'force_all_finite' was renamed to 'ensure_all_finite' in 1.6 and will be removed in 1.8.\n",
      "  warnings.warn(\n",
      "/home/sukainah/.pyenv/versions/3.10.6/envs/saudi_arabia_tourism_forecast/lib/python3.10/site-packages/sklearn/utils/deprecation.py:151: FutureWarning: 'force_all_finite' was renamed to 'ensure_all_finite' in 1.6 and will be removed in 1.8.\n",
      "  warnings.warn(\n"
     ]
    },
    {
     "name": "stdout",
     "output_type": "stream",
     "text": [
      " ARIMA(0,1,1)(0,0,0)[12] intercept   : AIC=1753.910, Time=0.19 sec\n"
     ]
    },
    {
     "name": "stderr",
     "output_type": "stream",
     "text": [
      "/home/sukainah/.pyenv/versions/3.10.6/envs/saudi_arabia_tourism_forecast/lib/python3.10/site-packages/sklearn/utils/deprecation.py:151: FutureWarning: 'force_all_finite' was renamed to 'ensure_all_finite' in 1.6 and will be removed in 1.8.\n",
      "  warnings.warn(\n"
     ]
    },
    {
     "name": "stdout",
     "output_type": "stream",
     "text": [
      " ARIMA(0,1,1)(1,0,1)[12] intercept   : AIC=1747.541, Time=0.93 sec\n"
     ]
    },
    {
     "name": "stderr",
     "output_type": "stream",
     "text": [
      "/home/sukainah/.pyenv/versions/3.10.6/envs/saudi_arabia_tourism_forecast/lib/python3.10/site-packages/sklearn/utils/deprecation.py:151: FutureWarning: 'force_all_finite' was renamed to 'ensure_all_finite' in 1.6 and will be removed in 1.8.\n",
      "  warnings.warn(\n"
     ]
    },
    {
     "name": "stdout",
     "output_type": "stream",
     "text": [
      " ARIMA(0,1,1)(0,0,2)[12] intercept   : AIC=1747.334, Time=1.03 sec\n"
     ]
    },
    {
     "name": "stderr",
     "output_type": "stream",
     "text": [
      "/home/sukainah/.pyenv/versions/3.10.6/envs/saudi_arabia_tourism_forecast/lib/python3.10/site-packages/sklearn/utils/deprecation.py:151: FutureWarning: 'force_all_finite' was renamed to 'ensure_all_finite' in 1.6 and will be removed in 1.8.\n",
      "  warnings.warn(\n"
     ]
    },
    {
     "name": "stdout",
     "output_type": "stream",
     "text": [
      " ARIMA(0,1,1)(1,0,0)[12] intercept   : AIC=1745.813, Time=0.40 sec\n"
     ]
    },
    {
     "name": "stderr",
     "output_type": "stream",
     "text": [
      "/home/sukainah/.pyenv/versions/3.10.6/envs/saudi_arabia_tourism_forecast/lib/python3.10/site-packages/sklearn/utils/deprecation.py:151: FutureWarning: 'force_all_finite' was renamed to 'ensure_all_finite' in 1.6 and will be removed in 1.8.\n",
      "  warnings.warn(\n"
     ]
    },
    {
     "name": "stdout",
     "output_type": "stream",
     "text": [
      " ARIMA(0,1,1)(2,0,0)[12] intercept   : AIC=1747.432, Time=1.10 sec\n"
     ]
    },
    {
     "name": "stderr",
     "output_type": "stream",
     "text": [
      "/home/sukainah/.pyenv/versions/3.10.6/envs/saudi_arabia_tourism_forecast/lib/python3.10/site-packages/sklearn/utils/deprecation.py:151: FutureWarning: 'force_all_finite' was renamed to 'ensure_all_finite' in 1.6 and will be removed in 1.8.\n",
      "  warnings.warn(\n"
     ]
    },
    {
     "name": "stdout",
     "output_type": "stream",
     "text": [
      " ARIMA(0,1,1)(2,0,1)[12] intercept   : AIC=inf, Time=1.17 sec\n",
      " ARIMA(0,1,0)(1,0,0)[12] intercept   : AIC=1785.084, Time=0.18 sec\n"
     ]
    },
    {
     "name": "stderr",
     "output_type": "stream",
     "text": [
      "/home/sukainah/.pyenv/versions/3.10.6/envs/saudi_arabia_tourism_forecast/lib/python3.10/site-packages/sklearn/utils/deprecation.py:151: FutureWarning: 'force_all_finite' was renamed to 'ensure_all_finite' in 1.6 and will be removed in 1.8.\n",
      "  warnings.warn(\n",
      "/home/sukainah/.pyenv/versions/3.10.6/envs/saudi_arabia_tourism_forecast/lib/python3.10/site-packages/sklearn/utils/deprecation.py:151: FutureWarning: 'force_all_finite' was renamed to 'ensure_all_finite' in 1.6 and will be removed in 1.8.\n",
      "  warnings.warn(\n"
     ]
    },
    {
     "name": "stdout",
     "output_type": "stream",
     "text": [
      " ARIMA(1,1,1)(1,0,0)[12] intercept   : AIC=1746.354, Time=0.92 sec\n"
     ]
    },
    {
     "name": "stderr",
     "output_type": "stream",
     "text": [
      "/home/sukainah/.pyenv/versions/3.10.6/envs/saudi_arabia_tourism_forecast/lib/python3.10/site-packages/sklearn/utils/deprecation.py:151: FutureWarning: 'force_all_finite' was renamed to 'ensure_all_finite' in 1.6 and will be removed in 1.8.\n",
      "  warnings.warn(\n"
     ]
    },
    {
     "name": "stdout",
     "output_type": "stream",
     "text": [
      " ARIMA(0,1,2)(1,0,0)[12] intercept   : AIC=1746.677, Time=0.89 sec\n"
     ]
    },
    {
     "name": "stderr",
     "output_type": "stream",
     "text": [
      "/home/sukainah/.pyenv/versions/3.10.6/envs/saudi_arabia_tourism_forecast/lib/python3.10/site-packages/sklearn/utils/deprecation.py:151: FutureWarning: 'force_all_finite' was renamed to 'ensure_all_finite' in 1.6 and will be removed in 1.8.\n",
      "  warnings.warn(\n"
     ]
    },
    {
     "name": "stdout",
     "output_type": "stream",
     "text": [
      " ARIMA(1,1,2)(1,0,0)[12] intercept   : AIC=inf, Time=1.39 sec\n"
     ]
    },
    {
     "name": "stderr",
     "output_type": "stream",
     "text": [
      "/home/sukainah/.pyenv/versions/3.10.6/envs/saudi_arabia_tourism_forecast/lib/python3.10/site-packages/sklearn/utils/deprecation.py:151: FutureWarning: 'force_all_finite' was renamed to 'ensure_all_finite' in 1.6 and will be removed in 1.8.\n",
      "  warnings.warn(\n"
     ]
    },
    {
     "name": "stdout",
     "output_type": "stream",
     "text": [
      " ARIMA(0,1,1)(1,0,0)[12]             : AIC=1744.503, Time=0.21 sec\n",
      " ARIMA(0,1,1)(0,0,0)[12]             : AIC=1753.770, Time=0.08 sec\n"
     ]
    },
    {
     "name": "stderr",
     "output_type": "stream",
     "text": [
      "/home/sukainah/.pyenv/versions/3.10.6/envs/saudi_arabia_tourism_forecast/lib/python3.10/site-packages/sklearn/utils/deprecation.py:151: FutureWarning: 'force_all_finite' was renamed to 'ensure_all_finite' in 1.6 and will be removed in 1.8.\n",
      "  warnings.warn(\n",
      "/home/sukainah/.pyenv/versions/3.10.6/envs/saudi_arabia_tourism_forecast/lib/python3.10/site-packages/sklearn/utils/deprecation.py:151: FutureWarning: 'force_all_finite' was renamed to 'ensure_all_finite' in 1.6 and will be removed in 1.8.\n",
      "  warnings.warn(\n"
     ]
    },
    {
     "name": "stdout",
     "output_type": "stream",
     "text": [
      " ARIMA(0,1,1)(2,0,0)[12]             : AIC=1746.173, Time=0.60 sec\n"
     ]
    },
    {
     "name": "stderr",
     "output_type": "stream",
     "text": [
      "/home/sukainah/.pyenv/versions/3.10.6/envs/saudi_arabia_tourism_forecast/lib/python3.10/site-packages/sklearn/utils/deprecation.py:151: FutureWarning: 'force_all_finite' was renamed to 'ensure_all_finite' in 1.6 and will be removed in 1.8.\n",
      "  warnings.warn(\n"
     ]
    },
    {
     "name": "stdout",
     "output_type": "stream",
     "text": [
      " ARIMA(0,1,1)(1,0,1)[12]             : AIC=1746.267, Time=0.35 sec\n",
      " ARIMA(0,1,1)(0,0,1)[12]             : AIC=1744.860, Time=0.18 sec\n"
     ]
    },
    {
     "name": "stderr",
     "output_type": "stream",
     "text": [
      "/home/sukainah/.pyenv/versions/3.10.6/envs/saudi_arabia_tourism_forecast/lib/python3.10/site-packages/sklearn/utils/deprecation.py:151: FutureWarning: 'force_all_finite' was renamed to 'ensure_all_finite' in 1.6 and will be removed in 1.8.\n",
      "  warnings.warn(\n",
      "/home/sukainah/.pyenv/versions/3.10.6/envs/saudi_arabia_tourism_forecast/lib/python3.10/site-packages/sklearn/utils/deprecation.py:151: FutureWarning: 'force_all_finite' was renamed to 'ensure_all_finite' in 1.6 and will be removed in 1.8.\n",
      "  warnings.warn(\n"
     ]
    },
    {
     "name": "stdout",
     "output_type": "stream",
     "text": [
      " ARIMA(0,1,1)(2,0,1)[12]             : AIC=1748.134, Time=0.83 sec\n",
      " ARIMA(0,1,0)(1,0,0)[12]             : AIC=1783.647, Time=0.06 sec\n"
     ]
    },
    {
     "name": "stderr",
     "output_type": "stream",
     "text": [
      "/home/sukainah/.pyenv/versions/3.10.6/envs/saudi_arabia_tourism_forecast/lib/python3.10/site-packages/sklearn/utils/deprecation.py:151: FutureWarning: 'force_all_finite' was renamed to 'ensure_all_finite' in 1.6 and will be removed in 1.8.\n",
      "  warnings.warn(\n",
      "/home/sukainah/.pyenv/versions/3.10.6/envs/saudi_arabia_tourism_forecast/lib/python3.10/site-packages/sklearn/utils/deprecation.py:151: FutureWarning: 'force_all_finite' was renamed to 'ensure_all_finite' in 1.6 and will be removed in 1.8.\n",
      "  warnings.warn(\n"
     ]
    },
    {
     "name": "stdout",
     "output_type": "stream",
     "text": [
      " ARIMA(1,1,1)(1,0,0)[12]             : AIC=1745.445, Time=0.27 sec\n"
     ]
    },
    {
     "name": "stderr",
     "output_type": "stream",
     "text": [
      "/home/sukainah/.pyenv/versions/3.10.6/envs/saudi_arabia_tourism_forecast/lib/python3.10/site-packages/sklearn/utils/deprecation.py:151: FutureWarning: 'force_all_finite' was renamed to 'ensure_all_finite' in 1.6 and will be removed in 1.8.\n",
      "  warnings.warn(\n"
     ]
    },
    {
     "name": "stdout",
     "output_type": "stream",
     "text": [
      " ARIMA(0,1,2)(1,0,0)[12]             : AIC=1745.636, Time=0.24 sec\n"
     ]
    },
    {
     "name": "stderr",
     "output_type": "stream",
     "text": [
      "/home/sukainah/.pyenv/versions/3.10.6/envs/saudi_arabia_tourism_forecast/lib/python3.10/site-packages/sklearn/utils/deprecation.py:151: FutureWarning: 'force_all_finite' was renamed to 'ensure_all_finite' in 1.6 and will be removed in 1.8.\n",
      "  warnings.warn(\n"
     ]
    },
    {
     "name": "stdout",
     "output_type": "stream",
     "text": [
      " ARIMA(1,1,0)(1,0,0)[12]             : AIC=1759.993, Time=0.26 sec\n"
     ]
    },
    {
     "name": "stderr",
     "output_type": "stream",
     "text": [
      "/home/sukainah/.pyenv/versions/3.10.6/envs/saudi_arabia_tourism_forecast/lib/python3.10/site-packages/sklearn/utils/deprecation.py:151: FutureWarning: 'force_all_finite' was renamed to 'ensure_all_finite' in 1.6 and will be removed in 1.8.\n",
      "  warnings.warn(\n"
     ]
    },
    {
     "name": "stdout",
     "output_type": "stream",
     "text": [
      " ARIMA(1,1,2)(1,0,0)[12]             : AIC=1746.584, Time=0.65 sec\n",
      "\n",
      "Best model:  ARIMA(0,1,1)(1,0,0)[12]          \n",
      "Total fit time: 14.906 seconds\n",
      "                                      SARIMAX Results                                      \n",
      "===========================================================================================\n",
      "Dep. Variable:                                   y   No. Observations:                  103\n",
      "Model:             SARIMAX(0, 1, 1)x(1, 0, [], 12)   Log Likelihood                -869.252\n",
      "Date:                             Wed, 23 Apr 2025   AIC                           1744.503\n",
      "Time:                                     09:26:39   BIC                           1752.378\n",
      "Sample:                                 01-01-2015   HQIC                          1747.692\n",
      "                                      - 07-01-2023                                         \n",
      "Covariance Type:                               opg                                         \n",
      "==============================================================================\n",
      "                 coef    std err          z      P>|z|      [0.025      0.975]\n",
      "------------------------------------------------------------------------------\n",
      "ma.L1         -0.7711      0.048    -16.217      0.000      -0.864      -0.678\n",
      "ar.S.L12       0.3334      0.066      5.080      0.000       0.205       0.462\n",
      "sigma2      1.443e+06   1.31e+05     10.984      0.000    1.19e+06     1.7e+06\n",
      "===================================================================================\n",
      "Ljung-Box (L1) (Q):                   0.24   Jarque-Bera (JB):                33.79\n",
      "Prob(Q):                              0.62   Prob(JB):                         0.00\n",
      "Heteroskedasticity (H):              10.88   Skew:                             0.38\n",
      "Prob(H) (two-sided):                  0.00   Kurtosis:                         5.71\n",
      "===================================================================================\n",
      "\n",
      "Warnings:\n",
      "[1] Covariance matrix calculated using the outer product of gradients (complex-step).\n"
     ]
    }
   ],
   "source": [
    "\n",
    "from pmdarima import auto_arima\n",
    "series = visitor_num_d_train['number of visitor']\n",
    "series.index = pd.DatetimeIndex(series.index, freq='MS')  \n",
    "stepwise_model = auto_arima(series, seasonal=True, m=12,  # set m = season length\n",
    "                            trace=True, \n",
    "                            suppress_warnings=True)\n",
    "print(stepwise_model.summary())"
   ]
  },
  {
   "cell_type": "code",
   "execution_count": 20,
   "id": "f541d4ee-19cb-4b29-a208-ca6871896839",
   "metadata": {},
   "outputs": [
    {
     "name": "stdout",
     "output_type": "stream",
     "text": [
      "Performing stepwise search to minimize aic\n"
     ]
    },
    {
     "name": "stderr",
     "output_type": "stream",
     "text": [
      "/home/sukainah/.pyenv/versions/3.10.6/envs/saudi_arabia_tourism_forecast/lib/python3.10/site-packages/sklearn/utils/deprecation.py:151: FutureWarning: 'force_all_finite' was renamed to 'ensure_all_finite' in 1.6 and will be removed in 1.8.\n",
      "  warnings.warn(\n",
      "/home/sukainah/.pyenv/versions/3.10.6/envs/saudi_arabia_tourism_forecast/lib/python3.10/site-packages/sklearn/utils/deprecation.py:151: FutureWarning: 'force_all_finite' was renamed to 'ensure_all_finite' in 1.6 and will be removed in 1.8.\n",
      "  warnings.warn(\n",
      "/home/sukainah/.pyenv/versions/3.10.6/envs/saudi_arabia_tourism_forecast/lib/python3.10/site-packages/sklearn/utils/deprecation.py:151: FutureWarning: 'force_all_finite' was renamed to 'ensure_all_finite' in 1.6 and will be removed in 1.8.\n",
      "  warnings.warn(\n",
      "/home/sukainah/.pyenv/versions/3.10.6/envs/saudi_arabia_tourism_forecast/lib/python3.10/site-packages/sklearn/utils/deprecation.py:151: FutureWarning: 'force_all_finite' was renamed to 'ensure_all_finite' in 1.6 and will be removed in 1.8.\n",
      "  warnings.warn(\n",
      "/home/sukainah/.pyenv/versions/3.10.6/envs/saudi_arabia_tourism_forecast/lib/python3.10/site-packages/sklearn/utils/deprecation.py:151: FutureWarning: 'force_all_finite' was renamed to 'ensure_all_finite' in 1.6 and will be removed in 1.8.\n",
      "  warnings.warn(\n",
      "/home/sukainah/.pyenv/versions/3.10.6/envs/saudi_arabia_tourism_forecast/lib/python3.10/site-packages/sklearn/utils/deprecation.py:151: FutureWarning: 'force_all_finite' was renamed to 'ensure_all_finite' in 1.6 and will be removed in 1.8.\n",
      "  warnings.warn(\n",
      "/home/sukainah/.pyenv/versions/3.10.6/envs/saudi_arabia_tourism_forecast/lib/python3.10/site-packages/sklearn/utils/deprecation.py:151: FutureWarning: 'force_all_finite' was renamed to 'ensure_all_finite' in 1.6 and will be removed in 1.8.\n",
      "  warnings.warn(\n",
      "/home/sukainah/.pyenv/versions/3.10.6/envs/saudi_arabia_tourism_forecast/lib/python3.10/site-packages/sklearn/utils/deprecation.py:151: FutureWarning: 'force_all_finite' was renamed to 'ensure_all_finite' in 1.6 and will be removed in 1.8.\n",
      "  warnings.warn(\n",
      "/home/sukainah/.pyenv/versions/3.10.6/envs/saudi_arabia_tourism_forecast/lib/python3.10/site-packages/sklearn/utils/deprecation.py:151: FutureWarning: 'force_all_finite' was renamed to 'ensure_all_finite' in 1.6 and will be removed in 1.8.\n",
      "  warnings.warn(\n",
      "/home/sukainah/.pyenv/versions/3.10.6/envs/saudi_arabia_tourism_forecast/lib/python3.10/site-packages/sklearn/utils/deprecation.py:151: FutureWarning: 'force_all_finite' was renamed to 'ensure_all_finite' in 1.6 and will be removed in 1.8.\n",
      "  warnings.warn(\n",
      "/home/sukainah/.pyenv/versions/3.10.6/envs/saudi_arabia_tourism_forecast/lib/python3.10/site-packages/sklearn/utils/deprecation.py:151: FutureWarning: 'force_all_finite' was renamed to 'ensure_all_finite' in 1.6 and will be removed in 1.8.\n",
      "  warnings.warn(\n"
     ]
    },
    {
     "name": "stdout",
     "output_type": "stream",
     "text": [
      " ARIMA(2,1,2)(1,0,1)[12] intercept   : AIC=inf, Time=1.12 sec\n",
      " ARIMA(0,1,0)(0,0,0)[12] intercept   : AIC=1799.856, Time=0.02 sec\n"
     ]
    },
    {
     "name": "stderr",
     "output_type": "stream",
     "text": [
      "/home/sukainah/.pyenv/versions/3.10.6/envs/saudi_arabia_tourism_forecast/lib/python3.10/site-packages/sklearn/utils/deprecation.py:151: FutureWarning: 'force_all_finite' was renamed to 'ensure_all_finite' in 1.6 and will be removed in 1.8.\n",
      "  warnings.warn(\n",
      "/home/sukainah/.pyenv/versions/3.10.6/envs/saudi_arabia_tourism_forecast/lib/python3.10/site-packages/sklearn/utils/deprecation.py:151: FutureWarning: 'force_all_finite' was renamed to 'ensure_all_finite' in 1.6 and will be removed in 1.8.\n",
      "  warnings.warn(\n"
     ]
    },
    {
     "name": "stdout",
     "output_type": "stream",
     "text": [
      " ARIMA(1,1,0)(1,0,0)[12] intercept   : AIC=1761.939, Time=0.26 sec\n"
     ]
    },
    {
     "name": "stderr",
     "output_type": "stream",
     "text": [
      "/home/sukainah/.pyenv/versions/3.10.6/envs/saudi_arabia_tourism_forecast/lib/python3.10/site-packages/sklearn/utils/deprecation.py:151: FutureWarning: 'force_all_finite' was renamed to 'ensure_all_finite' in 1.6 and will be removed in 1.8.\n",
      "  warnings.warn(\n"
     ]
    },
    {
     "name": "stdout",
     "output_type": "stream",
     "text": [
      " ARIMA(0,1,1)(0,0,1)[12] intercept   : AIC=1745.954, Time=0.47 sec\n",
      " ARIMA(0,1,0)(0,0,0)[12]             : AIC=1797.902, Time=0.06 sec\n"
     ]
    },
    {
     "name": "stderr",
     "output_type": "stream",
     "text": [
      "/home/sukainah/.pyenv/versions/3.10.6/envs/saudi_arabia_tourism_forecast/lib/python3.10/site-packages/sklearn/utils/deprecation.py:151: FutureWarning: 'force_all_finite' was renamed to 'ensure_all_finite' in 1.6 and will be removed in 1.8.\n",
      "  warnings.warn(\n",
      "/home/sukainah/.pyenv/versions/3.10.6/envs/saudi_arabia_tourism_forecast/lib/python3.10/site-packages/sklearn/utils/deprecation.py:151: FutureWarning: 'force_all_finite' was renamed to 'ensure_all_finite' in 1.6 and will be removed in 1.8.\n",
      "  warnings.warn(\n"
     ]
    },
    {
     "name": "stdout",
     "output_type": "stream",
     "text": [
      " ARIMA(0,1,1)(0,0,0)[12] intercept   : AIC=1753.910, Time=0.17 sec\n"
     ]
    },
    {
     "name": "stderr",
     "output_type": "stream",
     "text": [
      "/home/sukainah/.pyenv/versions/3.10.6/envs/saudi_arabia_tourism_forecast/lib/python3.10/site-packages/sklearn/utils/deprecation.py:151: FutureWarning: 'force_all_finite' was renamed to 'ensure_all_finite' in 1.6 and will be removed in 1.8.\n",
      "  warnings.warn(\n"
     ]
    },
    {
     "name": "stdout",
     "output_type": "stream",
     "text": [
      " ARIMA(0,1,1)(1,0,1)[12] intercept   : AIC=1747.541, Time=0.70 sec\n"
     ]
    },
    {
     "name": "stderr",
     "output_type": "stream",
     "text": [
      "/home/sukainah/.pyenv/versions/3.10.6/envs/saudi_arabia_tourism_forecast/lib/python3.10/site-packages/sklearn/utils/deprecation.py:151: FutureWarning: 'force_all_finite' was renamed to 'ensure_all_finite' in 1.6 and will be removed in 1.8.\n",
      "  warnings.warn(\n"
     ]
    },
    {
     "name": "stdout",
     "output_type": "stream",
     "text": [
      " ARIMA(0,1,1)(0,0,2)[12] intercept   : AIC=1747.334, Time=1.15 sec\n"
     ]
    },
    {
     "name": "stderr",
     "output_type": "stream",
     "text": [
      "/home/sukainah/.pyenv/versions/3.10.6/envs/saudi_arabia_tourism_forecast/lib/python3.10/site-packages/sklearn/utils/deprecation.py:151: FutureWarning: 'force_all_finite' was renamed to 'ensure_all_finite' in 1.6 and will be removed in 1.8.\n",
      "  warnings.warn(\n"
     ]
    },
    {
     "name": "stdout",
     "output_type": "stream",
     "text": [
      " ARIMA(0,1,1)(1,0,0)[12] intercept   : AIC=1745.813, Time=0.44 sec\n"
     ]
    },
    {
     "name": "stderr",
     "output_type": "stream",
     "text": [
      "/home/sukainah/.pyenv/versions/3.10.6/envs/saudi_arabia_tourism_forecast/lib/python3.10/site-packages/sklearn/utils/deprecation.py:151: FutureWarning: 'force_all_finite' was renamed to 'ensure_all_finite' in 1.6 and will be removed in 1.8.\n",
      "  warnings.warn(\n"
     ]
    },
    {
     "name": "stdout",
     "output_type": "stream",
     "text": [
      " ARIMA(0,1,1)(2,0,0)[12] intercept   : AIC=1747.432, Time=0.80 sec\n"
     ]
    },
    {
     "name": "stderr",
     "output_type": "stream",
     "text": [
      "/home/sukainah/.pyenv/versions/3.10.6/envs/saudi_arabia_tourism_forecast/lib/python3.10/site-packages/sklearn/utils/deprecation.py:151: FutureWarning: 'force_all_finite' was renamed to 'ensure_all_finite' in 1.6 and will be removed in 1.8.\n",
      "  warnings.warn(\n"
     ]
    },
    {
     "name": "stdout",
     "output_type": "stream",
     "text": [
      " ARIMA(0,1,1)(2,0,1)[12] intercept   : AIC=inf, Time=1.02 sec\n"
     ]
    },
    {
     "name": "stderr",
     "output_type": "stream",
     "text": [
      "/home/sukainah/.pyenv/versions/3.10.6/envs/saudi_arabia_tourism_forecast/lib/python3.10/site-packages/sklearn/utils/deprecation.py:151: FutureWarning: 'force_all_finite' was renamed to 'ensure_all_finite' in 1.6 and will be removed in 1.8.\n",
      "  warnings.warn(\n"
     ]
    },
    {
     "name": "stdout",
     "output_type": "stream",
     "text": [
      " ARIMA(0,1,0)(1,0,0)[12] intercept   : AIC=1785.084, Time=0.27 sec\n"
     ]
    },
    {
     "name": "stderr",
     "output_type": "stream",
     "text": [
      "/home/sukainah/.pyenv/versions/3.10.6/envs/saudi_arabia_tourism_forecast/lib/python3.10/site-packages/sklearn/utils/deprecation.py:151: FutureWarning: 'force_all_finite' was renamed to 'ensure_all_finite' in 1.6 and will be removed in 1.8.\n",
      "  warnings.warn(\n"
     ]
    },
    {
     "name": "stdout",
     "output_type": "stream",
     "text": [
      " ARIMA(1,1,1)(1,0,0)[12] intercept   : AIC=1746.354, Time=0.70 sec\n"
     ]
    },
    {
     "name": "stderr",
     "output_type": "stream",
     "text": [
      "/home/sukainah/.pyenv/versions/3.10.6/envs/saudi_arabia_tourism_forecast/lib/python3.10/site-packages/sklearn/utils/deprecation.py:151: FutureWarning: 'force_all_finite' was renamed to 'ensure_all_finite' in 1.6 and will be removed in 1.8.\n",
      "  warnings.warn(\n"
     ]
    },
    {
     "name": "stdout",
     "output_type": "stream",
     "text": [
      " ARIMA(0,1,2)(1,0,0)[12] intercept   : AIC=1746.677, Time=0.60 sec\n"
     ]
    },
    {
     "name": "stderr",
     "output_type": "stream",
     "text": [
      "/home/sukainah/.pyenv/versions/3.10.6/envs/saudi_arabia_tourism_forecast/lib/python3.10/site-packages/sklearn/utils/deprecation.py:151: FutureWarning: 'force_all_finite' was renamed to 'ensure_all_finite' in 1.6 and will be removed in 1.8.\n",
      "  warnings.warn(\n"
     ]
    },
    {
     "name": "stdout",
     "output_type": "stream",
     "text": [
      " ARIMA(1,1,2)(1,0,0)[12] intercept   : AIC=inf, Time=1.13 sec\n"
     ]
    },
    {
     "name": "stderr",
     "output_type": "stream",
     "text": [
      "/home/sukainah/.pyenv/versions/3.10.6/envs/saudi_arabia_tourism_forecast/lib/python3.10/site-packages/sklearn/utils/deprecation.py:151: FutureWarning: 'force_all_finite' was renamed to 'ensure_all_finite' in 1.6 and will be removed in 1.8.\n",
      "  warnings.warn(\n"
     ]
    },
    {
     "name": "stdout",
     "output_type": "stream",
     "text": [
      " ARIMA(0,1,1)(1,0,0)[12]             : AIC=1744.503, Time=0.33 sec\n",
      " ARIMA(0,1,1)(0,0,0)[12]             : AIC=1753.770, Time=0.08 sec\n"
     ]
    },
    {
     "name": "stderr",
     "output_type": "stream",
     "text": [
      "/home/sukainah/.pyenv/versions/3.10.6/envs/saudi_arabia_tourism_forecast/lib/python3.10/site-packages/sklearn/utils/deprecation.py:151: FutureWarning: 'force_all_finite' was renamed to 'ensure_all_finite' in 1.6 and will be removed in 1.8.\n",
      "  warnings.warn(\n",
      "/home/sukainah/.pyenv/versions/3.10.6/envs/saudi_arabia_tourism_forecast/lib/python3.10/site-packages/sklearn/utils/deprecation.py:151: FutureWarning: 'force_all_finite' was renamed to 'ensure_all_finite' in 1.6 and will be removed in 1.8.\n",
      "  warnings.warn(\n"
     ]
    },
    {
     "name": "stdout",
     "output_type": "stream",
     "text": [
      " ARIMA(0,1,1)(2,0,0)[12]             : AIC=1746.173, Time=0.82 sec\n"
     ]
    },
    {
     "name": "stderr",
     "output_type": "stream",
     "text": [
      "/home/sukainah/.pyenv/versions/3.10.6/envs/saudi_arabia_tourism_forecast/lib/python3.10/site-packages/sklearn/utils/deprecation.py:151: FutureWarning: 'force_all_finite' was renamed to 'ensure_all_finite' in 1.6 and will be removed in 1.8.\n",
      "  warnings.warn(\n"
     ]
    },
    {
     "name": "stdout",
     "output_type": "stream",
     "text": [
      " ARIMA(0,1,1)(1,0,1)[12]             : AIC=1746.267, Time=0.54 sec\n"
     ]
    },
    {
     "name": "stderr",
     "output_type": "stream",
     "text": [
      "/home/sukainah/.pyenv/versions/3.10.6/envs/saudi_arabia_tourism_forecast/lib/python3.10/site-packages/sklearn/utils/deprecation.py:151: FutureWarning: 'force_all_finite' was renamed to 'ensure_all_finite' in 1.6 and will be removed in 1.8.\n",
      "  warnings.warn(\n"
     ]
    },
    {
     "name": "stdout",
     "output_type": "stream",
     "text": [
      " ARIMA(0,1,1)(0,0,1)[12]             : AIC=1744.860, Time=0.29 sec\n"
     ]
    },
    {
     "name": "stderr",
     "output_type": "stream",
     "text": [
      "/home/sukainah/.pyenv/versions/3.10.6/envs/saudi_arabia_tourism_forecast/lib/python3.10/site-packages/sklearn/utils/deprecation.py:151: FutureWarning: 'force_all_finite' was renamed to 'ensure_all_finite' in 1.6 and will be removed in 1.8.\n",
      "  warnings.warn(\n"
     ]
    },
    {
     "name": "stdout",
     "output_type": "stream",
     "text": [
      " ARIMA(0,1,1)(2,0,1)[12]             : AIC=1748.134, Time=0.95 sec\n",
      " ARIMA(0,1,0)(1,0,0)[12]             : AIC=1783.647, Time=0.05 sec\n"
     ]
    },
    {
     "name": "stderr",
     "output_type": "stream",
     "text": [
      "/home/sukainah/.pyenv/versions/3.10.6/envs/saudi_arabia_tourism_forecast/lib/python3.10/site-packages/sklearn/utils/deprecation.py:151: FutureWarning: 'force_all_finite' was renamed to 'ensure_all_finite' in 1.6 and will be removed in 1.8.\n",
      "  warnings.warn(\n",
      "/home/sukainah/.pyenv/versions/3.10.6/envs/saudi_arabia_tourism_forecast/lib/python3.10/site-packages/sklearn/utils/deprecation.py:151: FutureWarning: 'force_all_finite' was renamed to 'ensure_all_finite' in 1.6 and will be removed in 1.8.\n",
      "  warnings.warn(\n"
     ]
    },
    {
     "name": "stdout",
     "output_type": "stream",
     "text": [
      " ARIMA(1,1,1)(1,0,0)[12]             : AIC=1745.445, Time=0.34 sec\n"
     ]
    },
    {
     "name": "stderr",
     "output_type": "stream",
     "text": [
      "/home/sukainah/.pyenv/versions/3.10.6/envs/saudi_arabia_tourism_forecast/lib/python3.10/site-packages/sklearn/utils/deprecation.py:151: FutureWarning: 'force_all_finite' was renamed to 'ensure_all_finite' in 1.6 and will be removed in 1.8.\n",
      "  warnings.warn(\n"
     ]
    },
    {
     "name": "stdout",
     "output_type": "stream",
     "text": [
      " ARIMA(0,1,2)(1,0,0)[12]             : AIC=1745.636, Time=0.38 sec\n",
      " ARIMA(1,1,0)(1,0,0)[12]             : AIC=1759.993, Time=0.17 sec\n"
     ]
    },
    {
     "name": "stderr",
     "output_type": "stream",
     "text": [
      "/home/sukainah/.pyenv/versions/3.10.6/envs/saudi_arabia_tourism_forecast/lib/python3.10/site-packages/sklearn/utils/deprecation.py:151: FutureWarning: 'force_all_finite' was renamed to 'ensure_all_finite' in 1.6 and will be removed in 1.8.\n",
      "  warnings.warn(\n",
      "/home/sukainah/.pyenv/versions/3.10.6/envs/saudi_arabia_tourism_forecast/lib/python3.10/site-packages/sklearn/utils/deprecation.py:151: FutureWarning: 'force_all_finite' was renamed to 'ensure_all_finite' in 1.6 and will be removed in 1.8.\n",
      "  warnings.warn(\n"
     ]
    },
    {
     "name": "stdout",
     "output_type": "stream",
     "text": [
      " ARIMA(1,1,2)(1,0,0)[12]             : AIC=1746.584, Time=0.78 sec\n",
      "\n",
      "Best model:  ARIMA(0,1,1)(1,0,0)[12]          \n",
      "Total fit time: 13.754 seconds\n",
      "                                      SARIMAX Results                                      \n",
      "===========================================================================================\n",
      "Dep. Variable:                                   y   No. Observations:                  103\n",
      "Model:             SARIMAX(0, 1, 1)x(1, 0, [], 12)   Log Likelihood                -869.252\n",
      "Date:                             Wed, 23 Apr 2025   AIC                           1744.503\n",
      "Time:                                     09:26:53   BIC                           1752.378\n",
      "Sample:                                 01-01-2015   HQIC                          1747.692\n",
      "                                      - 07-01-2023                                         \n",
      "Covariance Type:                               opg                                         \n",
      "==============================================================================\n",
      "                 coef    std err          z      P>|z|      [0.025      0.975]\n",
      "------------------------------------------------------------------------------\n",
      "ma.L1         -0.7711      0.048    -16.217      0.000      -0.864      -0.678\n",
      "ar.S.L12       0.3334      0.066      5.080      0.000       0.205       0.462\n",
      "sigma2      1.443e+06   1.31e+05     10.984      0.000    1.19e+06     1.7e+06\n",
      "===================================================================================\n",
      "Ljung-Box (L1) (Q):                   0.24   Jarque-Bera (JB):                33.79\n",
      "Prob(Q):                              0.62   Prob(JB):                         0.00\n",
      "Heteroskedasticity (H):              10.88   Skew:                             0.38\n",
      "Prob(H) (two-sided):                  0.00   Kurtosis:                         5.71\n",
      "===================================================================================\n",
      "\n",
      "Warnings:\n",
      "[1] Covariance matrix calculated using the outer product of gradients (complex-step).\n"
     ]
    }
   ],
   "source": [
    "from pmdarima import auto_arima\n",
    "stepwise_model = auto_arima(visitor_num_d_train['number of visitor'], \n",
    "                            seasonal=True, m=12,  # set m = season length\n",
    "                            trace=True, \n",
    "                            suppress_warnings=True)\n",
    "print(stepwise_model.summary())"
   ]
  },
  {
   "cell_type": "code",
   "execution_count": 21,
   "id": "3fd15ba8-392a-4690-9adc-6a94182a4a52",
   "metadata": {},
   "outputs": [
    {
     "ename": "NameError",
     "evalue": "name 'p' is not defined",
     "output_type": "error",
     "traceback": [
      "\u001b[0;31m---------------------------------------------------------------------------\u001b[0m",
      "\u001b[0;31mNameError\u001b[0m                                 Traceback (most recent call last)",
      "Cell \u001b[0;32mIn[21], line 5\u001b[0m\n\u001b[1;32m      1\u001b[0m \u001b[38;5;66;03m#this for fitting the model\u001b[39;00m\n\u001b[1;32m      2\u001b[0m \u001b[38;5;28;01mfrom\u001b[39;00m\u001b[38;5;250m \u001b[39m\u001b[38;5;21;01mstatsmodels\u001b[39;00m\u001b[38;5;21;01m.\u001b[39;00m\u001b[38;5;21;01mtsa\u001b[39;00m\u001b[38;5;21;01m.\u001b[39;00m\u001b[38;5;21;01mstatespace\u001b[39;00m\u001b[38;5;21;01m.\u001b[39;00m\u001b[38;5;21;01msarimax\u001b[39;00m\u001b[38;5;250m \u001b[39m\u001b[38;5;28;01mimport\u001b[39;00m SARIMAX\n\u001b[1;32m      4\u001b[0m model \u001b[38;5;241m=\u001b[39m SARIMAX(visitor_num_d_train[\u001b[38;5;124m'\u001b[39m\u001b[38;5;124mdiff\u001b[39m\u001b[38;5;124m'\u001b[39m],\n\u001b[0;32m----> 5\u001b[0m                 order\u001b[38;5;241m=\u001b[39m(\u001b[43mp\u001b[49m, d, q),\n\u001b[1;32m      6\u001b[0m                 seasonal_order\u001b[38;5;241m=\u001b[39m(P, D, Q, s),\n\u001b[1;32m      7\u001b[0m                 enforce_stationarity\u001b[38;5;241m=\u001b[39m\u001b[38;5;28;01mFalse\u001b[39;00m,\n\u001b[1;32m      8\u001b[0m                 enforce_invertibility\u001b[38;5;241m=\u001b[39m\u001b[38;5;28;01mFalse\u001b[39;00m)\n\u001b[1;32m     10\u001b[0m results \u001b[38;5;241m=\u001b[39m model\u001b[38;5;241m.\u001b[39mfit()\n\u001b[1;32m     11\u001b[0m \u001b[38;5;28mprint\u001b[39m(results\u001b[38;5;241m.\u001b[39msummary())\n",
      "\u001b[0;31mNameError\u001b[0m: name 'p' is not defined"
     ]
    }
   ],
   "source": [
    "#this for fitting the model\n",
    "from statsmodels.tsa.statespace.sarimax import SARIMAX\n",
    "\n",
    "model = SARIMAX(visitor_num_d_train['diff'],\n",
    "                order=(p, d, q),\n",
    "                seasonal_order=(P, D, Q, s),\n",
    "                enforce_stationarity=False,\n",
    "                enforce_invertibility=False)\n",
    "\n",
    "results = model.fit()\n",
    "print(results.summary())"
   ]
  },
  {
   "cell_type": "code",
   "execution_count": null,
   "id": "cc1926ea-f35f-44ca-8fd9-0ee549288d73",
   "metadata": {},
   "outputs": [],
   "source": [
    "#this for forecasting                                           forecast = results.get_forecast(steps=12)  # 12 months ahead, for example\n",
    "forecast_ci = forecast.conf_int()\n",
    "\n",
    "# Plot\n",
    "ax = df['your_target_column'].plot(label='Observed', figsize=(12, 6))\n",
    "forecast.predicted_mean.plot(ax=ax, label='Forecast')\n",
    "ax.fill_between(forecast_ci.index,\n",
    "                forecast_ci.iloc[:, 0],\n",
    "                forecast_ci.iloc[:, 1], color='pink', alpha=0.3)\n",
    "plt.legend()\n",
    "plt.show()"
   ]
  },
  {
   "cell_type": "code",
   "execution_count": null,
   "id": "882d58a5-ddbf-4f10-a167-c2acdffa0ba2",
   "metadata": {},
   "outputs": [],
   "source": [
    "\n",
    "plot_acf(visitor_num_d_train['number of visitor'], lags=44);\n",
    "plot_pacf(visitor_num_d_train['number of visitor'], lags=44);\n",
    "plt.show()"
   ]
  },
  {
   "cell_type": "code",
   "execution_count": null,
   "id": "24e2da12-868f-43ce-800a-ddb5d91f6897",
   "metadata": {},
   "outputs": [],
   "source": [
    "smodel = pm.auto_arima(train, seasonal=True, m=12, \n",
    "                       start_p=0, max_p=1, max_d=1, start_q=0, max_q=1,\n",
    "                       start_P=0, max_P=2, max_D=1, start_Q=0, max_Q=2, \n",
    "                       trace=True, error_action='ignore', suppress_warnings=True)"
   ]
  },
  {
   "cell_type": "markdown",
   "id": "d7d1d2f3-2fe8-481b-b90e-027ecc8b9ad9",
   "metadata": {},
   "source": [
    "## inbound data  "
   ]
  },
  {
   "cell_type": "code",
   "execution_count": 23,
   "id": "e292138d-32fe-483a-b61d-95c45319bd9e",
   "metadata": {},
   "outputs": [
    {
     "name": "stderr",
     "output_type": "stream",
     "text": [
      "/tmp/ipykernel_1023/953207289.py:6: UserWarning: Could not infer format, so each element will be parsed individually, falling back to `dateutil`. To ensure parsing is consistent and as-expected, please specify a format.\n",
      "  df_i['Date'] = pd.to_datetime(df_i['Year'].astype(str) + ' ' + df_i['Month'])\n"
     ]
    }
   ],
   "source": [
    "# inbound data \n",
    "## read data file\n",
    "df_i = pd.read_excel('raw_data/I_data.xlsx')\n",
    "\n",
    "## crete date column and set it as index then drop the (yeaer month) columns\n",
    "df_i['Date'] = pd.to_datetime(df_i['Year'].astype(str) + ' ' + df_i['Month'])\n",
    "df_i.set_index('Date', inplace=True)\n",
    "df_i.drop(columns=['Year', 'Month'], inplace=True)\n",
    "df_i = df_i.dropna()\n",
    "\n",
    "## rename the column\n",
    "df_i.rename(columns={'Tourists Number Overnight Visitors': 'number of visitor'}, inplace=True)\n",
    "# df_i.head()"
   ]
  },
  {
   "cell_type": "code",
   "execution_count": 24,
   "id": "f06e1404-84d8-464d-905a-2fbc627697c0",
   "metadata": {},
   "outputs": [],
   "source": [
    "visitor_num_i = pd.DataFrame(df_i['number of visitor'])\n",
    "spend_i = pd.DataFrame(df_i['Tourists Spending'])\n",
    "# visitor_num_i"
   ]
  },
  {
   "cell_type": "markdown",
   "id": "92eac918-9744-4f21-8563-08445a554dc7",
   "metadata": {},
   "source": [
    "### data visualizing"
   ]
  },
  {
   "cell_type": "markdown",
   "id": "0ae571cb-30fb-401d-942f-b5488095c219",
   "metadata": {},
   "source": [
    "### models for VISITORS NUM"
   ]
  },
  {
   "cell_type": "markdown",
   "id": "3486221e-ea4b-4736-adb1-6fe59c78e2ee",
   "metadata": {},
   "source": [
    "#### data split"
   ]
  },
  {
   "cell_type": "code",
   "execution_count": 25,
   "id": "124ca114-5959-4273-8d35-90134ee0cb29",
   "metadata": {},
   "outputs": [
    {
     "data": {
      "text/plain": [
       "(11, 1)"
      ]
     },
     "execution_count": 25,
     "metadata": {},
     "output_type": "execute_result"
    }
   ],
   "source": [
    "train_size = 0.9\n",
    "visitor_num_i_index = round(train_size*visitor_num_i.shape[0])\n",
    "\n",
    "## VISITOR DATA\n",
    "visitor_num_i_train = visitor_num_i.iloc[:visitor_num_i_index]\n",
    "visitor_num_i_test = visitor_num_i.iloc[visitor_num_i_index:]\n",
    "visitor_num_i_test.shape"
   ]
  },
  {
   "cell_type": "markdown",
   "id": "6b735116-3e0a-417c-9f34-118688776dba",
   "metadata": {},
   "source": [
    "#### baseline model"
   ]
  },
  {
   "cell_type": "code",
   "execution_count": 27,
   "id": "fbba0baa-b673-4c33-98a5-f1d92d6211be",
   "metadata": {},
   "outputs": [
    {
     "name": "stdout",
     "output_type": "stream",
     "text": [
      "baseline model mape for visitor_num in the inbouned dataset: 0.18169292402492024\n"
     ]
    }
   ],
   "source": [
    "## predict the # visitors of prevus month as the # visitors of next month\n",
    "visitor_num_i_y_pred = visitor_num_i_test.shift(1).dropna()\n",
    "visitor_num_i_y_true = visitor_num_i_test[1:]\n",
    "\n",
    "visitor_num_i_base_accuracy = mean_absolute_percentage_error(visitor_num_i_y_true, visitor_num_i_y_pred)\n",
    "print(f\"baseline model mape for visitor_num in the inbouned dataset: {visitor_num_i_base_accuracy}\")"
   ]
  },
  {
   "cell_type": "markdown",
   "id": "d794f4fe-4ea9-4e33-a2e0-32006c6a6755",
   "metadata": {},
   "source": [
    "#### Prophet"
   ]
  },
  {
   "cell_type": "code",
   "execution_count": 28,
   "id": "e29ff930-f9a1-449b-bbee-d8a7644099b5",
   "metadata": {},
   "outputs": [
    {
     "data": {
      "text/plain": [
       "((103, 2), (11, 2))"
      ]
     },
     "execution_count": 28,
     "metadata": {},
     "output_type": "execute_result"
    }
   ],
   "source": [
    "## prepare data for prophet TRAIN \n",
    "# Make sure 'ds' is datetime\n",
    "visitor_num_i_prophet_train = visitor_num_i_train.reset_index().rename(columns={\n",
    "    'Date': 'ds',\n",
    "    'number of visitor': 'y'\n",
    "})\n",
    "\n",
    "## prepare data for prophet TEST \n",
    "visitor_num_i_prophet_test = visitor_num_i_test.reset_index().rename(columns={\n",
    "    'Date': 'ds',\n",
    "    'number of visitor': 'y'\n",
    "})\n",
    "visitor_num_i_prophet_train.shape, visitor_num_i_prophet_test.shape"
   ]
  },
  {
   "cell_type": "code",
   "execution_count": 29,
   "id": "aeb08982-d098-4659-948a-b2bd484ad25e",
   "metadata": {},
   "outputs": [
    {
     "name": "stderr",
     "output_type": "stream",
     "text": [
      "09:28:41 - cmdstanpy - INFO - Chain [1] start processing\n",
      "09:28:41 - cmdstanpy - INFO - Chain [1] done processing\n"
     ]
    },
    {
     "name": "stdout",
     "output_type": "stream",
     "text": [
      "Prophet MAPE for visitor_num in the inbouned dataset: 56.32%\n"
     ]
    }
   ],
   "source": [
    "# Fit the model\n",
    "prophet = Prophet()\n",
    "prophet.fit(visitor_num_i_prophet_train)\n",
    "\n",
    "# Prepare the future DataFrame (dates) for prediction\n",
    "future = visitor_num_i_prophet_test[['ds']]  # Just the dates from your test set\n",
    "preds = prophet.predict(future)  # Get predictions\n",
    "\n",
    "# Calculate accuracy using MAPE\n",
    "y_true = visitor_num_i_prophet_test['y'].values\n",
    "y_pred = preds['yhat'].values\n",
    "visitor_num_i_prophet_accuracy = mean_absolute_percentage_error(y_true, y_pred)\n",
    "\n",
    "# Print accuracy\n",
    "print(f\"Prophet MAPE for visitor_num in the inbouned dataset: {visitor_num_i_prophet_accuracy:.2%}\")\n",
    "## WITH DIFFERENT SPLIT SIZE: \n",
    "## lower is better\n",
    "# 0.9 >> MAPE: 8.41%\n",
    "# 0.85 >> MAPE: 11.44%\n",
    "# 0.8 >> MAPE: 23.42%\n"
   ]
  },
  {
   "cell_type": "code",
   "execution_count": 31,
   "id": "6d0a18d1-0868-4d0e-bef0-bd8658f97f67",
   "metadata": {},
   "outputs": [
    {
     "name": "stderr",
     "output_type": "stream",
     "text": [
      "09:30:35 - cmdstanpy - INFO - Chain [1] start processing\n",
      "09:30:35 - cmdstanpy - INFO - Chain [1] done processing\n"
     ]
    },
    {
     "name": "stdout",
     "output_type": "stream",
     "text": [
      "error is: 0.5633005248669133\n"
     ]
    },
    {
     "name": "stderr",
     "output_type": "stream",
     "text": [
      "/home/sukainah/.pyenv/versions/3.10.6/envs/saudi_arabia_tourism_forecast/lib/python3.10/site-packages/prophet/forecaster.py:1854: FutureWarning: 'm' is deprecated and will be removed in a future version, please use 'ME' instead.\n",
      "  dates = pd.date_range(\n"
     ]
    }
   ],
   "source": [
    "# Fit the model\n",
    "prophet = Prophet()\n",
    "prophet.fit(visitor_num_i_prophet_train)\n",
    "\n",
    "# Prepare the future DataFrame (dates) for prediction\n",
    "Test_size = visitor_num_i_prophet_test.shape[0]\n",
    "future = prophet.make_future_dataframe(periods=Test_size, freq='m')\n",
    "forecast = prophet.predict(future)\n",
    "predictions = forecast.tail(Test_size)\n",
    "\n",
    "error = mean_absolute_percentage_error(visitor_num_i_prophet_test['y'], predictions['yhat'])   \n",
    "print('error is:', error)"
   ]
  },
  {
   "cell_type": "markdown",
   "id": "09cb7f00-6820-400f-8c31-9b21b582190f",
   "metadata": {},
   "source": [
    "### models for SPENDS"
   ]
  },
  {
   "cell_type": "markdown",
   "id": "94ff4c9f-0a9a-4691-a6e7-17667c54ea52",
   "metadata": {},
   "source": [
    "#### data split"
   ]
  },
  {
   "cell_type": "code",
   "execution_count": 32,
   "id": "7297269f-0fc2-4ce7-ac99-6a1b70bd70b7",
   "metadata": {},
   "outputs": [],
   "source": [
    "## SPENDS DATA\n",
    "train_size = 0.9\n",
    "spends_i_index = round(train_size*spend_i.shape[0])\n",
    "\n",
    "spends_i_train = spend_i.iloc[:spends_i_index]\n",
    "spends_i_test = spend_i.iloc[spends_i_index:]"
   ]
  },
  {
   "cell_type": "markdown",
   "id": "1ddbf4b4-e366-45dc-8270-a7314d37062b",
   "metadata": {},
   "source": [
    "#### baseline model"
   ]
  },
  {
   "cell_type": "code",
   "execution_count": 33,
   "id": "67b8b201-025f-482a-b58b-320a75c0f931",
   "metadata": {},
   "outputs": [
    {
     "name": "stdout",
     "output_type": "stream",
     "text": [
      "baseline model mape for spends in the inbouned data: 0.2505565791089078\n"
     ]
    }
   ],
   "source": [
    "## predict the # visitors of prevus month as the # visitors of next month\n",
    "spends_i_y_pred = spends_i_test.shift(1).dropna()\n",
    "spends_i_y_true = spends_i_test[1:]\n",
    "spends_i_base_accuracy = mean_absolute_percentage_error(spends_i_y_true, spends_i_y_pred)\n",
    "print(f\"baseline model mape for spends in the inbouned data: {spends_i_base_accuracy}\")"
   ]
  },
  {
   "cell_type": "markdown",
   "id": "068c117c-31ff-4365-a4af-6b19c2c598d7",
   "metadata": {},
   "source": [
    "#### Prophet"
   ]
  },
  {
   "cell_type": "code",
   "execution_count": 34,
   "id": "343e2fd1-afbc-4a2e-9f7a-4600c05e6f7f",
   "metadata": {},
   "outputs": [],
   "source": [
    "## prepare data for prophet TRAIN  \n",
    "# Make sure 'ds' is datetime\n",
    "spends_i_prophet_train = spends_i_train.reset_index().rename(columns={\n",
    "    'Date': 'ds',\n",
    "    'Tourists Spending': 'y'\n",
    "})\n",
    "spends_i_prophet_test = spends_i_test.reset_index().rename(columns={\n",
    "    'Date': 'ds',\n",
    "    'Tourists Spending': 'y'\n",
    "})"
   ]
  },
  {
   "cell_type": "code",
   "execution_count": 35,
   "id": "9366a116-2fd6-411f-9180-4cc66fd77095",
   "metadata": {},
   "outputs": [
    {
     "name": "stderr",
     "output_type": "stream",
     "text": [
      "09:30:51 - cmdstanpy - INFO - Chain [1] start processing\n",
      "09:30:51 - cmdstanpy - INFO - Chain [1] done processing\n"
     ]
    },
    {
     "name": "stdout",
     "output_type": "stream",
     "text": [
      "Prophet MAPE for spends in the inbouned dataset: 46.96%\n"
     ]
    }
   ],
   "source": [
    "# Fit the model\n",
    "prophet = Prophet()\n",
    "prophet.fit(spends_i_prophet_train)\n",
    "\n",
    "# Prepare the future DataFrame (dates) for prediction\n",
    "future = spends_i_prophet_test[['ds']]  # Just the dates from your test set\n",
    "preds = prophet.predict(future)  # Get predictions\n",
    "\n",
    "# Calculate accuracy using MAPE\n",
    "y_true = spends_i_prophet_test['y'].values\n",
    "y_pred = preds['yhat'].values\n",
    "spends_i_prophet_accuracy = mean_absolute_percentage_error(y_true, y_pred)\n",
    "\n",
    "# Print accuracy\n",
    "print(f\"Prophet MAPE for spends in the inbouned dataset: {spends_i_prophet_accuracy:.2%}\")\n",
    "## WITH DIFFERENT SPLIT SIZE: \n",
    "# 0.9 >> MAPE: 10.97%\n",
    "# 0.85 >> MAPE: MAPE: 14.14%\n",
    "# 0.8 >> MAPE: 39.65%\n"
   ]
  },
  {
   "cell_type": "code",
   "execution_count": 36,
   "id": "f68a4bf1-2c5b-44a8-a3d3-4706c4b3b4e4",
   "metadata": {},
   "outputs": [
    {
     "name": "stderr",
     "output_type": "stream",
     "text": [
      "09:30:56 - cmdstanpy - INFO - Chain [1] start processing\n",
      "09:30:56 - cmdstanpy - INFO - Chain [1] done processing\n"
     ]
    },
    {
     "name": "stdout",
     "output_type": "stream",
     "text": [
      "error is: 1.416021364220852\n"
     ]
    },
    {
     "name": "stderr",
     "output_type": "stream",
     "text": [
      "/home/sukainah/.pyenv/versions/3.10.6/envs/saudi_arabia_tourism_forecast/lib/python3.10/site-packages/prophet/forecaster.py:1854: FutureWarning: 'm' is deprecated and will be removed in a future version, please use 'ME' instead.\n",
      "  dates = pd.date_range(\n"
     ]
    }
   ],
   "source": [
    "\n",
    "# Fit the model\n",
    "prophet = Prophet()\n",
    "prophet.fit(spends_i_prophet_test)\n",
    "\n",
    "# Prepare the future DataFrame (dates) for prediction\n",
    "Test_size = spends_i_prophet_test.shape[0]\n",
    "future = prophet.make_future_dataframe(periods=Test_size, freq='m')\n",
    "forecast = prophet.predict(future)\n",
    "predictions = forecast.tail(Test_size)\n",
    "\n",
    "error = mean_absolute_percentage_error(spends_i_prophet_test['y'], predictions['yhat'])   \n",
    "print('error is:', error)"
   ]
  },
  {
   "cell_type": "code",
   "execution_count": null,
   "id": "6e109973-67cc-4443-8105-315ad252c223",
   "metadata": {},
   "outputs": [],
   "source": []
  },
  {
   "cell_type": "code",
   "execution_count": null,
   "id": "a799f633-6e2d-4999-aba0-158a050add9e",
   "metadata": {},
   "outputs": [],
   "source": []
  }
 ],
 "metadata": {
  "kernelspec": {
   "display_name": "Python 3 (ipykernel)",
   "language": "python",
   "name": "python3"
  },
  "language_info": {
   "codemirror_mode": {
    "name": "ipython",
    "version": 3
   },
   "file_extension": ".py",
   "mimetype": "text/x-python",
   "name": "python",
   "nbconvert_exporter": "python",
   "pygments_lexer": "ipython3",
   "version": "3.10.6"
  }
 },
 "nbformat": 4,
 "nbformat_minor": 5
}
