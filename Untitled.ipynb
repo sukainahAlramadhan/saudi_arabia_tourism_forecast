{
 "cells": [
  {
   "cell_type": "code",
   "execution_count": null,
   "id": "a135ad23-bdd5-4647-9d9f-ba0615c7da37",
   "metadata": {},
   "outputs": [],
   "source": [
    "import pandas as pd\n",
    "\n",
    "from darts import TimeSeries\n",
    "from darts.models import AutoTBATS\n",
    "\n",
    "from darts.metrics import mape\n",
    "from sklearn.metrics import mean_absolute_percentage_error\n",
    "\n",
    "import matplotlib.pyplot as plt"
   ]
  },
  {
   "cell_type": "code",
   "execution_count": null,
   "id": "8e72bc01-93cc-49c9-b968-3dc6efc8988a",
   "metadata": {},
   "outputs": [],
   "source": [
    "def initialize_model(input_shape: tuple) -> Model:\n",
    "    AutoTBATS = AutoTBATS(season_length=12)\n"
   ]
  },
  {
   "cell_type": "code",
   "execution_count": null,
   "id": "5746c0de-9566-458a-86d2-8eb7085e8a34",
   "metadata": {},
   "outputs": [],
   "source": [
    "def train_model(\n",
    "        model: Model,\n",
    "        X: np.ndarray,\n",
    "        y: np.ndarray,\n",
    "\n",
    "    ) -> Tuple[Model, dict]:"
   ]
  }
 ],
 "metadata": {
  "kernelspec": {
   "display_name": "Python 3 (ipykernel)",
   "language": "python",
   "name": "python3"
  },
  "language_info": {
   "codemirror_mode": {
    "name": "ipython",
    "version": 3
   },
   "file_extension": ".py",
   "mimetype": "text/x-python",
   "name": "python",
   "nbconvert_exporter": "python",
   "pygments_lexer": "ipython3",
   "version": "3.10.6"
  }
 },
 "nbformat": 4,
 "nbformat_minor": 5
}
